{
 "cells": [
  {
   "cell_type": "code",
   "execution_count": 1,
   "id": "c0b2ddbb-2bc3-4bf4-9506-5281bc7c9441",
   "metadata": {},
   "outputs": [],
   "source": [
    "import pandas as pd"
   ]
  },
  {
   "cell_type": "code",
   "execution_count": 2,
   "id": "3cd0a295-e782-4cae-9572-f647a635f4d7",
   "metadata": {},
   "outputs": [],
   "source": [
    "attendance_df = pd.read_csv(\"2024-02-28T1618_Grades-bus_401_120241_232828.csv\")"
   ]
  },
  {
   "cell_type": "code",
   "execution_count": 3,
   "id": "44a02d83-4a83-476e-93fb-39c6c778ead6",
   "metadata": {},
   "outputs": [
    {
     "data": {
      "text/html": [
       "<div>\n",
       "<style scoped>\n",
       "    .dataframe tbody tr th:only-of-type {\n",
       "        vertical-align: middle;\n",
       "    }\n",
       "\n",
       "    .dataframe tbody tr th {\n",
       "        vertical-align: top;\n",
       "    }\n",
       "\n",
       "    .dataframe thead th {\n",
       "        text-align: right;\n",
       "    }\n",
       "</style>\n",
       "<table border=\"1\" class=\"dataframe\">\n",
       "  <thead>\n",
       "    <tr style=\"text-align: right;\">\n",
       "      <th></th>\n",
       "      <th>Student</th>\n",
       "      <th>ID</th>\n",
       "      <th>SIS User ID</th>\n",
       "      <th>SIS Login ID</th>\n",
       "      <th>Section</th>\n",
       "    </tr>\n",
       "  </thead>\n",
       "  <tbody>\n",
       "    <tr>\n",
       "      <th>0</th>\n",
       "      <td>NaN</td>\n",
       "      <td>NaN</td>\n",
       "      <td>NaN</td>\n",
       "      <td>NaN</td>\n",
       "      <td>NaN</td>\n",
       "    </tr>\n",
       "    <tr>\n",
       "      <th>1</th>\n",
       "      <td>NaN</td>\n",
       "      <td>NaN</td>\n",
       "      <td>NaN</td>\n",
       "      <td>NaN</td>\n",
       "      <td>NaN</td>\n",
       "    </tr>\n",
       "    <tr>\n",
       "      <th>2</th>\n",
       "      <td>Abulikemu, Ekrem</td>\n",
       "      <td>321182.0</td>\n",
       "      <td>aa89</td>\n",
       "      <td>aa89</td>\n",
       "      <td>BUS 401 B Spring 2024 CRN70160 and Tariro's Gr...</td>\n",
       "    </tr>\n",
       "    <tr>\n",
       "      <th>3</th>\n",
       "      <td>Adler, Claire</td>\n",
       "      <td>25879.0</td>\n",
       "      <td>cadler2</td>\n",
       "      <td>cadler2</td>\n",
       "      <td>BUS 401 B Spring 2024 CRN70160 and Tariro's Gr...</td>\n",
       "    </tr>\n",
       "    <tr>\n",
       "      <th>4</th>\n",
       "      <td>Aguaiza, Jason</td>\n",
       "      <td>13000.0</td>\n",
       "      <td>aguaiza2</td>\n",
       "      <td>aguaiza2</td>\n",
       "      <td>Arka's Growth Groups and BUS 401 A Spring 2024...</td>\n",
       "    </tr>\n",
       "    <tr>\n",
       "      <th>...</th>\n",
       "      <td>...</td>\n",
       "      <td>...</td>\n",
       "      <td>...</td>\n",
       "      <td>...</td>\n",
       "      <td>...</td>\n",
       "    </tr>\n",
       "    <tr>\n",
       "      <th>367</th>\n",
       "      <td>Zhang, Shirley</td>\n",
       "      <td>123264.0</td>\n",
       "      <td>shiyuz4</td>\n",
       "      <td>shiyuz4</td>\n",
       "      <td>BUS 401 B Spring 2024 CRN70160 and Stephanie's...</td>\n",
       "    </tr>\n",
       "    <tr>\n",
       "      <th>368</th>\n",
       "      <td>Zhao, Emily</td>\n",
       "      <td>39562.0</td>\n",
       "      <td>ezhao21</td>\n",
       "      <td>ezhao21</td>\n",
       "      <td>BUS 401 A Spring 2024 CRN70161 and Elizabeth's...</td>\n",
       "    </tr>\n",
       "    <tr>\n",
       "      <th>369</th>\n",
       "      <td>Zhao, Tyler</td>\n",
       "      <td>100848.0</td>\n",
       "      <td>tianyu8</td>\n",
       "      <td>tianyu8</td>\n",
       "      <td>BUS 401 B Spring 2024 CRN70160 and Stephanie's...</td>\n",
       "    </tr>\n",
       "    <tr>\n",
       "      <th>370</th>\n",
       "      <td>Zhou, Candice</td>\n",
       "      <td>124901.0</td>\n",
       "      <td>xuanz9</td>\n",
       "      <td>xuanz9</td>\n",
       "      <td>BUS 401 B Spring 2024 CRN70160</td>\n",
       "    </tr>\n",
       "    <tr>\n",
       "      <th>371</th>\n",
       "      <td>Zhu, Weihao</td>\n",
       "      <td>124414.0</td>\n",
       "      <td>weihaoz2</td>\n",
       "      <td>weihaoz2</td>\n",
       "      <td>BUS 401 B Spring 2024 CRN70160 and Dhruv's Gro...</td>\n",
       "    </tr>\n",
       "  </tbody>\n",
       "</table>\n",
       "<p>372 rows × 5 columns</p>\n",
       "</div>"
      ],
      "text/plain": [
       "              Student        ID SIS User ID SIS Login ID  \\\n",
       "0                 NaN       NaN         NaN          NaN   \n",
       "1                 NaN       NaN         NaN          NaN   \n",
       "2    Abulikemu, Ekrem  321182.0        aa89         aa89   \n",
       "3       Adler, Claire   25879.0     cadler2      cadler2   \n",
       "4      Aguaiza, Jason   13000.0    aguaiza2     aguaiza2   \n",
       "..                ...       ...         ...          ...   \n",
       "367    Zhang, Shirley  123264.0     shiyuz4      shiyuz4   \n",
       "368       Zhao, Emily   39562.0     ezhao21      ezhao21   \n",
       "369       Zhao, Tyler  100848.0     tianyu8      tianyu8   \n",
       "370     Zhou, Candice  124901.0      xuanz9       xuanz9   \n",
       "371       Zhu, Weihao  124414.0    weihaoz2     weihaoz2   \n",
       "\n",
       "                                               Section  \n",
       "0                                                  NaN  \n",
       "1                                                  NaN  \n",
       "2    BUS 401 B Spring 2024 CRN70160 and Tariro's Gr...  \n",
       "3    BUS 401 B Spring 2024 CRN70160 and Tariro's Gr...  \n",
       "4    Arka's Growth Groups and BUS 401 A Spring 2024...  \n",
       "..                                                 ...  \n",
       "367  BUS 401 B Spring 2024 CRN70160 and Stephanie's...  \n",
       "368  BUS 401 A Spring 2024 CRN70161 and Elizabeth's...  \n",
       "369  BUS 401 B Spring 2024 CRN70160 and Stephanie's...  \n",
       "370                     BUS 401 B Spring 2024 CRN70160  \n",
       "371  BUS 401 B Spring 2024 CRN70160 and Dhruv's Gro...  \n",
       "\n",
       "[372 rows x 5 columns]"
      ]
     },
     "execution_count": 3,
     "metadata": {},
     "output_type": "execute_result"
    }
   ],
   "source": [
    "attendance_df"
   ]
  },
  {
   "cell_type": "code",
   "execution_count": 4,
   "id": "e1692a40-a217-45d0-b28a-f143cdf79f57",
   "metadata": {},
   "outputs": [],
   "source": [
    "def extract_id(df):\n",
    "\n",
    "    regex_pattern = r'([^@]+)@'\n",
    "    \n",
    "    # Extract usernames and create a new column\n",
    "    df['Username'] = df[\"User Email\"].str.extract(regex_pattern)\n",
    "    \n",
    "    return df"
   ]
  },
  {
   "cell_type": "code",
   "execution_count": 5,
   "id": "50552373-ce74-4964-849a-3e42ae8db39e",
   "metadata": {},
   "outputs": [],
   "source": [
    "def calculate_attendance(attd_df, df, date):\n",
    "    for i in range(0,len(attd_df)):\n",
    "        for j in range(0,len(df)):\n",
    "            if attd_df.loc[i,\"SIS User ID\"] == df.loc[j, \"Username\"] and df.loc[j, \"Total Duration (Minutes)\"]> 28:\n",
    "                attd_df.loc[i, date] = 1\n",
    "                break\n",
    "            else:\n",
    "                attd_df.loc[i, date] = 0\n",
    "    return attd_df"
   ]
  },
  {
   "cell_type": "markdown",
   "id": "12d841ca-6f02-4afd-bbbc-368f9299833e",
   "metadata": {},
   "source": [
    "# Jan 24th"
   ]
  },
  {
   "cell_type": "code",
   "execution_count": 6,
   "id": "19e682df-9ece-49fc-a4a3-3fa148f0443b",
   "metadata": {},
   "outputs": [],
   "source": [
    "jan_24_A_df = pd.read_csv(\"Attendance - BUS 401 Section A - 24-Jan-24.csv\")\n",
    "jan_24_B_df = pd.read_csv(\"Attendance - BUS 401 Section B - 24-Jan-24.csv\")"
   ]
  },
  {
   "cell_type": "code",
   "execution_count": 7,
   "id": "ac89e870-b977-4767-9ea6-23398e12e1c2",
   "metadata": {},
   "outputs": [],
   "source": [
    "jan_24_df = pd.concat([jan_24_A_df, jan_24_B_df], ignore_index=True)"
   ]
  },
  {
   "cell_type": "code",
   "execution_count": 8,
   "id": "46214914-f7e4-453e-b1f5-05e62bc5d1b5",
   "metadata": {},
   "outputs": [],
   "source": [
    "jan_24_df = extract_id(jan_24_df)"
   ]
  },
  {
   "cell_type": "code",
   "execution_count": 9,
   "id": "096f89c8-b26c-4b36-a9d0-002eddb427ac",
   "metadata": {},
   "outputs": [],
   "source": [
    "attendance_df = calculate_attendance(attendance_df, jan_24_df, \"01/24/2024\")"
   ]
  },
  {
   "cell_type": "code",
   "execution_count": 10,
   "id": "4f4ca08d-f275-466f-9f91-5da780807ae7",
   "metadata": {},
   "outputs": [
    {
     "data": {
      "text/html": [
       "<div>\n",
       "<style scoped>\n",
       "    .dataframe tbody tr th:only-of-type {\n",
       "        vertical-align: middle;\n",
       "    }\n",
       "\n",
       "    .dataframe tbody tr th {\n",
       "        vertical-align: top;\n",
       "    }\n",
       "\n",
       "    .dataframe thead th {\n",
       "        text-align: right;\n",
       "    }\n",
       "</style>\n",
       "<table border=\"1\" class=\"dataframe\">\n",
       "  <thead>\n",
       "    <tr style=\"text-align: right;\">\n",
       "      <th></th>\n",
       "      <th>Student</th>\n",
       "      <th>ID</th>\n",
       "      <th>SIS User ID</th>\n",
       "      <th>SIS Login ID</th>\n",
       "      <th>Section</th>\n",
       "      <th>01/24/2024</th>\n",
       "    </tr>\n",
       "  </thead>\n",
       "  <tbody>\n",
       "    <tr>\n",
       "      <th>0</th>\n",
       "      <td>NaN</td>\n",
       "      <td>NaN</td>\n",
       "      <td>NaN</td>\n",
       "      <td>NaN</td>\n",
       "      <td>NaN</td>\n",
       "      <td>0.0</td>\n",
       "    </tr>\n",
       "    <tr>\n",
       "      <th>1</th>\n",
       "      <td>NaN</td>\n",
       "      <td>NaN</td>\n",
       "      <td>NaN</td>\n",
       "      <td>NaN</td>\n",
       "      <td>NaN</td>\n",
       "      <td>0.0</td>\n",
       "    </tr>\n",
       "    <tr>\n",
       "      <th>2</th>\n",
       "      <td>Abulikemu, Ekrem</td>\n",
       "      <td>321182.0</td>\n",
       "      <td>aa89</td>\n",
       "      <td>aa89</td>\n",
       "      <td>BUS 401 B Spring 2024 CRN70160 and Tariro's Gr...</td>\n",
       "      <td>1.0</td>\n",
       "    </tr>\n",
       "    <tr>\n",
       "      <th>3</th>\n",
       "      <td>Adler, Claire</td>\n",
       "      <td>25879.0</td>\n",
       "      <td>cadler2</td>\n",
       "      <td>cadler2</td>\n",
       "      <td>BUS 401 B Spring 2024 CRN70160 and Tariro's Gr...</td>\n",
       "      <td>1.0</td>\n",
       "    </tr>\n",
       "    <tr>\n",
       "      <th>4</th>\n",
       "      <td>Aguaiza, Jason</td>\n",
       "      <td>13000.0</td>\n",
       "      <td>aguaiza2</td>\n",
       "      <td>aguaiza2</td>\n",
       "      <td>Arka's Growth Groups and BUS 401 A Spring 2024...</td>\n",
       "      <td>1.0</td>\n",
       "    </tr>\n",
       "    <tr>\n",
       "      <th>...</th>\n",
       "      <td>...</td>\n",
       "      <td>...</td>\n",
       "      <td>...</td>\n",
       "      <td>...</td>\n",
       "      <td>...</td>\n",
       "      <td>...</td>\n",
       "    </tr>\n",
       "    <tr>\n",
       "      <th>367</th>\n",
       "      <td>Zhang, Shirley</td>\n",
       "      <td>123264.0</td>\n",
       "      <td>shiyuz4</td>\n",
       "      <td>shiyuz4</td>\n",
       "      <td>BUS 401 B Spring 2024 CRN70160 and Stephanie's...</td>\n",
       "      <td>1.0</td>\n",
       "    </tr>\n",
       "    <tr>\n",
       "      <th>368</th>\n",
       "      <td>Zhao, Emily</td>\n",
       "      <td>39562.0</td>\n",
       "      <td>ezhao21</td>\n",
       "      <td>ezhao21</td>\n",
       "      <td>BUS 401 A Spring 2024 CRN70161 and Elizabeth's...</td>\n",
       "      <td>1.0</td>\n",
       "    </tr>\n",
       "    <tr>\n",
       "      <th>369</th>\n",
       "      <td>Zhao, Tyler</td>\n",
       "      <td>100848.0</td>\n",
       "      <td>tianyu8</td>\n",
       "      <td>tianyu8</td>\n",
       "      <td>BUS 401 B Spring 2024 CRN70160 and Stephanie's...</td>\n",
       "      <td>0.0</td>\n",
       "    </tr>\n",
       "    <tr>\n",
       "      <th>370</th>\n",
       "      <td>Zhou, Candice</td>\n",
       "      <td>124901.0</td>\n",
       "      <td>xuanz9</td>\n",
       "      <td>xuanz9</td>\n",
       "      <td>BUS 401 B Spring 2024 CRN70160</td>\n",
       "      <td>1.0</td>\n",
       "    </tr>\n",
       "    <tr>\n",
       "      <th>371</th>\n",
       "      <td>Zhu, Weihao</td>\n",
       "      <td>124414.0</td>\n",
       "      <td>weihaoz2</td>\n",
       "      <td>weihaoz2</td>\n",
       "      <td>BUS 401 B Spring 2024 CRN70160 and Dhruv's Gro...</td>\n",
       "      <td>1.0</td>\n",
       "    </tr>\n",
       "  </tbody>\n",
       "</table>\n",
       "<p>372 rows × 6 columns</p>\n",
       "</div>"
      ],
      "text/plain": [
       "              Student        ID SIS User ID SIS Login ID  \\\n",
       "0                 NaN       NaN         NaN          NaN   \n",
       "1                 NaN       NaN         NaN          NaN   \n",
       "2    Abulikemu, Ekrem  321182.0        aa89         aa89   \n",
       "3       Adler, Claire   25879.0     cadler2      cadler2   \n",
       "4      Aguaiza, Jason   13000.0    aguaiza2     aguaiza2   \n",
       "..                ...       ...         ...          ...   \n",
       "367    Zhang, Shirley  123264.0     shiyuz4      shiyuz4   \n",
       "368       Zhao, Emily   39562.0     ezhao21      ezhao21   \n",
       "369       Zhao, Tyler  100848.0     tianyu8      tianyu8   \n",
       "370     Zhou, Candice  124901.0      xuanz9       xuanz9   \n",
       "371       Zhu, Weihao  124414.0    weihaoz2     weihaoz2   \n",
       "\n",
       "                                               Section  01/24/2024  \n",
       "0                                                  NaN         0.0  \n",
       "1                                                  NaN         0.0  \n",
       "2    BUS 401 B Spring 2024 CRN70160 and Tariro's Gr...         1.0  \n",
       "3    BUS 401 B Spring 2024 CRN70160 and Tariro's Gr...         1.0  \n",
       "4    Arka's Growth Groups and BUS 401 A Spring 2024...         1.0  \n",
       "..                                                 ...         ...  \n",
       "367  BUS 401 B Spring 2024 CRN70160 and Stephanie's...         1.0  \n",
       "368  BUS 401 A Spring 2024 CRN70161 and Elizabeth's...         1.0  \n",
       "369  BUS 401 B Spring 2024 CRN70160 and Stephanie's...         0.0  \n",
       "370                     BUS 401 B Spring 2024 CRN70160         1.0  \n",
       "371  BUS 401 B Spring 2024 CRN70160 and Dhruv's Gro...         1.0  \n",
       "\n",
       "[372 rows x 6 columns]"
      ]
     },
     "execution_count": 10,
     "metadata": {},
     "output_type": "execute_result"
    }
   ],
   "source": [
    "attendance_df"
   ]
  },
  {
   "cell_type": "markdown",
   "id": "22d44444-3aa4-40b0-b4d1-5fa1c92098dd",
   "metadata": {},
   "source": [
    "# Jan 31st"
   ]
  },
  {
   "cell_type": "code",
   "execution_count": 11,
   "id": "3c97b0d5-f076-4e14-b334-c9a667be2983",
   "metadata": {},
   "outputs": [],
   "source": [
    "jan_31_A_df = pd.read_csv(\"Attendance - BUS 401 Section A - 31-Jan-24.csv\")\n",
    "jan_31_B_df = pd.read_csv(\"Attendance - BUS 401 Section B - 31-Jan-24.csv\")"
   ]
  },
  {
   "cell_type": "code",
   "execution_count": 12,
   "id": "76c4f574-74f4-4e5b-9c95-71c3a9d4448a",
   "metadata": {},
   "outputs": [],
   "source": [
    "jan_31_df = pd.concat([jan_31_A_df, jan_31_B_df], ignore_index=True)"
   ]
  },
  {
   "cell_type": "code",
   "execution_count": 13,
   "id": "2400ccad-b967-43bd-af36-96a55a40adb1",
   "metadata": {},
   "outputs": [],
   "source": [
    "jan_31_df = extract_id(jan_31_df)"
   ]
  },
  {
   "cell_type": "code",
   "execution_count": 14,
   "id": "c1c0d91a-6a23-49f1-9f04-5fd013f26e7c",
   "metadata": {},
   "outputs": [],
   "source": [
    "attendance_df = calculate_attendance(attendance_df, jan_31_df, \"01/31/2024\")"
   ]
  },
  {
   "cell_type": "markdown",
   "id": "caca3327-574c-4da8-8dff-b410aca94007",
   "metadata": {},
   "source": [
    "## Feb 7th"
   ]
  },
  {
   "cell_type": "code",
   "execution_count": 15,
   "id": "7d787c18-e098-42eb-adeb-5b15862cb90d",
   "metadata": {},
   "outputs": [],
   "source": [
    "feb_7_A_df = pd.read_csv(\"Attandance - BUS 401 Section A - 7-Feb-24.csv\")\n",
    "feb_7_B_df = pd.read_csv(\"Attandance - BUS 401 Section B - 7-Feb-24.csv\")"
   ]
  },
  {
   "cell_type": "code",
   "execution_count": 16,
   "id": "6d316279-4990-473d-9086-511a6d6c67f5",
   "metadata": {},
   "outputs": [],
   "source": [
    "feb_7_df = pd.concat([feb_7_A_df, feb_7_B_df], ignore_index=True)"
   ]
  },
  {
   "cell_type": "code",
   "execution_count": 17,
   "id": "1be3909c-43fa-429b-8d71-1a6474cf66a3",
   "metadata": {},
   "outputs": [],
   "source": [
    "feb_7_df = extract_id(feb_7_df)"
   ]
  },
  {
   "cell_type": "code",
   "execution_count": 18,
   "id": "dfe9ff37-b0f7-4841-983d-c12beffcda17",
   "metadata": {},
   "outputs": [],
   "source": [
    "attendance_df = calculate_attendance(attendance_df, feb_7_df, \"02/7/2024\")"
   ]
  },
  {
   "cell_type": "markdown",
   "id": "ca060963-380f-47b8-8165-e85cacfeb38e",
   "metadata": {},
   "source": [
    "## Feb 14th "
   ]
  },
  {
   "cell_type": "code",
   "execution_count": 19,
   "id": "cc1529ed-85d7-4539-a1ad-e270c5518e90",
   "metadata": {},
   "outputs": [],
   "source": [
    "feb_14_df = pd.read_csv(\"Attendance - BUS 401 Section A&B - 14-Feb-24.csv\")"
   ]
  },
  {
   "cell_type": "code",
   "execution_count": 20,
   "id": "44e9eb92-d784-4ccd-8e5d-b31978c97e5b",
   "metadata": {},
   "outputs": [],
   "source": [
    "feb_14_df = extract_id(feb_14_df)"
   ]
  },
  {
   "cell_type": "code",
   "execution_count": 21,
   "id": "5f149a57-b7b1-4fb8-8c01-81b07105af02",
   "metadata": {},
   "outputs": [],
   "source": [
    "attendance_df = calculate_attendance(attendance_df, feb_14_df, \"02/14/2024\")"
   ]
  },
  {
   "cell_type": "markdown",
   "id": "5a34f44b-d37c-48a7-963c-71472f3d8581",
   "metadata": {},
   "source": [
    "## Feb 28th "
   ]
  },
  {
   "cell_type": "code",
   "execution_count": 22,
   "id": "df0e2741-d3e0-4b09-ac21-6073a7cadfe6",
   "metadata": {},
   "outputs": [],
   "source": [
    "feb_28_df = pd.read_csv(\"Attendance - BUS 401 Section A&B - 28-Feb-24.csv\")"
   ]
  },
  {
   "cell_type": "code",
   "execution_count": 23,
   "id": "9b352380-29b3-40d7-9ce6-ca8f64d75517",
   "metadata": {},
   "outputs": [],
   "source": [
    "feb_28_df = extract_id(feb_28_df)"
   ]
  },
  {
   "cell_type": "code",
   "execution_count": 24,
   "id": "27a9f420-9740-4235-8ce7-9e5fe1493700",
   "metadata": {},
   "outputs": [],
   "source": [
    "attendance_df = calculate_attendance(attendance_df, feb_28_df, \"02/28/2024\")"
   ]
  },
  {
   "cell_type": "markdown",
   "id": "3adbdd54-a27b-4245-a390-8f61c527592d",
   "metadata": {},
   "source": [
    "## March 6th"
   ]
  },
  {
   "cell_type": "code",
   "execution_count": 25,
   "id": "3b3f30c4-3053-49fb-b159-ecc0395c576e",
   "metadata": {},
   "outputs": [],
   "source": [
    "mar_6_df= pd.read_csv(\"Attendance - BUS 401 Section A&B - 6-Mar-24.csv\")"
   ]
  },
  {
   "cell_type": "code",
   "execution_count": 26,
   "id": "ada34598-6d2b-40b1-8951-4f656e5cdb19",
   "metadata": {},
   "outputs": [],
   "source": [
    "mar_6_df = extract_id(mar_6_df)"
   ]
  },
  {
   "cell_type": "code",
   "execution_count": 27,
   "id": "d6c999ef-153e-4b77-9f8f-cc1c0f539d47",
   "metadata": {},
   "outputs": [],
   "source": [
    "attendance_df = calculate_attendance(attendance_df, mar_6_df, \"03/6/2024\")"
   ]
  },
  {
   "cell_type": "markdown",
   "id": "a6fd4303-5bab-4248-ab20-3a3b5f976017",
   "metadata": {},
   "source": [
    "# -----------------------------------------------------Spring Break--------------------------------------------------------"
   ]
  },
  {
   "cell_type": "markdown",
   "id": "90436b2d-f897-4147-8640-80d31b99134b",
   "metadata": {},
   "source": [
    "## March 20th"
   ]
  },
  {
   "cell_type": "code",
   "execution_count": 28,
   "id": "a6764c5d-3cd6-4db0-adc5-a1805737e0bd",
   "metadata": {},
   "outputs": [],
   "source": [
    "mar_20_df = pd.read_csv(\"Attendance - BUS 401 Section A&B - 20-Mar-24.csv\")"
   ]
  },
  {
   "cell_type": "code",
   "execution_count": 29,
   "id": "0b988eab-d1be-4353-a722-180a145c83f9",
   "metadata": {},
   "outputs": [],
   "source": [
    "mar_20_df = extract_id(mar_20_df)"
   ]
  },
  {
   "cell_type": "code",
   "execution_count": 30,
   "id": "9d6f2d9a-8c43-46a2-ad7c-24e10846d0cf",
   "metadata": {},
   "outputs": [],
   "source": [
    "attendance_df = calculate_attendance(attendance_df, mar_20_df, \"03/20/2024\")"
   ]
  },
  {
   "cell_type": "markdown",
   "id": "b1cb41cd-e274-418a-a71a-35bb0110d810",
   "metadata": {},
   "source": [
    "## March 27th"
   ]
  },
  {
   "cell_type": "code",
   "execution_count": 31,
   "id": "7933e2b7-01de-4ae4-881e-cce7706bf217",
   "metadata": {},
   "outputs": [],
   "source": [
    "mar_27_df = pd.read_csv(\"Attendance - BUS 401 Section A&B - 27-Mar-24.csv\")"
   ]
  },
  {
   "cell_type": "code",
   "execution_count": 32,
   "id": "ce8b4ad7-6ebe-470d-84af-43f833a8a305",
   "metadata": {},
   "outputs": [],
   "source": [
    "mar_27_df = extract_id(mar_27_df)"
   ]
  },
  {
   "cell_type": "code",
   "execution_count": 33,
   "id": "91e90dab-4a2d-4bc8-8ba5-1c11654be4f9",
   "metadata": {},
   "outputs": [],
   "source": [
    "attendance_df = calculate_attendance(attendance_df, mar_27_df, \"03/27/2024\")"
   ]
  },
  {
   "cell_type": "markdown",
   "id": "403e0b01-1dba-4eef-a398-5a13de2a1804",
   "metadata": {},
   "source": [
    "# April 3rd"
   ]
  },
  {
   "cell_type": "code",
   "execution_count": 34,
   "id": "4648dd53-f8eb-4135-937c-8a893237dfc6",
   "metadata": {},
   "outputs": [],
   "source": [
    "apr_3_df = pd.read_excel(\"Attendance - BUS 401 Section A&B - 3-Apr-24.xlsx\")"
   ]
  },
  {
   "cell_type": "code",
   "execution_count": 35,
   "id": "87518363-2fb8-4e13-acdd-1db8c235fb29",
   "metadata": {},
   "outputs": [],
   "source": [
    "char = \"@illinois.edu\"\n",
    "apr_3_df = apr_3_df.assign(User_Email = lambda x: (x[\"What is your NetID?\\n\"].str.replace(char, '')))"
   ]
  },
  {
   "cell_type": "code",
   "execution_count": 43,
   "id": "84cdfc66-1ad8-4e00-9fe7-be16590430c2",
   "metadata": {},
   "outputs": [],
   "source": [
    "apr_3_df.rename(columns = {'User Email':'Username'}, inplace = True)"
   ]
  },
  {
   "cell_type": "code",
   "execution_count": 46,
   "id": "4fdf29b3-94fa-44b7-9d21-65eb904cd51d",
   "metadata": {},
   "outputs": [],
   "source": [
    "apr_3_df[\"Username\"] = apr_3_df[\"Username\"].str.lower()"
   ]
  },
  {
   "cell_type": "code",
   "execution_count": 47,
   "id": "c3ce1d09-ddd9-4dda-8bf2-176270546233",
   "metadata": {},
   "outputs": [],
   "source": [
    "for i in range(0,len(attendance_df)):\n",
    "    for j in range(0,len(apr_3_df)):\n",
    "        if attendance_df.loc[i,\"SIS User ID\"] == apr_3_df.loc[j, \"Username\"]:\n",
    "            attendance_df.loc[i,\"4/3/2024\"] = 1\n",
    "            break\n",
    "        else:\n",
    "            attendance_df.loc[i,\"4/3/2024\"] = 0"
   ]
  },
  {
   "cell_type": "markdown",
   "id": "f8ab337b-92e7-4206-a331-8bc8af868bc0",
   "metadata": {},
   "source": [
    "# April 10"
   ]
  },
  {
   "cell_type": "code",
   "execution_count": 50,
   "id": "fddf896b-5f71-498c-ae04-ae6382a9573c",
   "metadata": {},
   "outputs": [],
   "source": [
    "apr_10_df= pd.read_csv(\"Attendance - BUS 401 Section A&B - 10-Apr-24.csv\")"
   ]
  },
  {
   "cell_type": "code",
   "execution_count": 51,
   "id": "ace3afb1-aa1e-4040-84bd-5b5e97aca2ce",
   "metadata": {},
   "outputs": [],
   "source": [
    "apr_10_df = extract_id(apr_10_df)"
   ]
  },
  {
   "cell_type": "code",
   "execution_count": 52,
   "id": "b376b67e-aa13-4777-ab51-58de6d6263d1",
   "metadata": {},
   "outputs": [],
   "source": [
    "attendance_df = calculate_attendance(attendance_df, apr_10_df, \"04/10/2024\")"
   ]
  },
  {
   "cell_type": "markdown",
   "id": "83efc9bc-b858-4ac0-9936-07363a172171",
   "metadata": {},
   "source": [
    "# April 16th"
   ]
  },
  {
   "cell_type": "code",
   "execution_count": 53,
   "id": "31efc025-ac4d-44a4-a791-13825e77dc14",
   "metadata": {},
   "outputs": [],
   "source": [
    "apr_16_df = pd.read_csv(\"Attendance - BUS 401 Sections A&B - 16-Apr-24.csv\")"
   ]
  },
  {
   "cell_type": "code",
   "execution_count": 54,
   "id": "1e8a4593-cde5-4d28-9c40-62c94ffc0a08",
   "metadata": {},
   "outputs": [],
   "source": [
    "apr_16_df = extract_id(apr_16_df)"
   ]
  },
  {
   "cell_type": "code",
   "execution_count": 55,
   "id": "6dd00b3c-6b54-4a33-b4e0-daff06040d6a",
   "metadata": {},
   "outputs": [],
   "source": [
    "attendance_df = calculate_attendance(attendance_df, apr_16_df, \"04/16/2024\")"
   ]
  },
  {
   "cell_type": "markdown",
   "id": "fd57ab03-1250-4ba5-997c-8b1924237a34",
   "metadata": {},
   "source": [
    "## April 24th"
   ]
  },
  {
   "cell_type": "code",
   "execution_count": 57,
   "id": "59312f82-00c8-4593-b29a-7984764cfd8b",
   "metadata": {},
   "outputs": [],
   "source": [
    "apr_24_df = pd.read_csv(\"Attendance - BUS 401 Sections A&B - 24-Apr-24.csv\")"
   ]
  },
  {
   "cell_type": "code",
   "execution_count": 58,
   "id": "a7e9bbee-2d0f-43a5-9003-375918372edf",
   "metadata": {},
   "outputs": [],
   "source": [
    "apr_24_df = extract_id(apr_24_df)"
   ]
  },
  {
   "cell_type": "code",
   "execution_count": 59,
   "id": "54384663-4a1c-4d7e-832d-ffc3119ef6b1",
   "metadata": {},
   "outputs": [],
   "source": [
    "attendance_df = calculate_attendance(attendance_df, apr_24_df, \"04/24/2024\")"
   ]
  },
  {
   "cell_type": "markdown",
   "id": "135ad73e-a676-4e3b-9091-850ced93c859",
   "metadata": {},
   "source": [
    "## Convert Dataframe to CSV"
   ]
  },
  {
   "cell_type": "code",
   "execution_count": 60,
   "id": "bd77f0bb-1f9b-4758-a09a-169b6d25e20f",
   "metadata": {},
   "outputs": [],
   "source": [
    "csv_filename = 'BUS_401_wed_attendance.csv'\n",
    "attendance_df.to_csv(csv_filename, index=False)"
   ]
  },
  {
   "cell_type": "code",
   "execution_count": null,
   "id": "ae7c50c2-22e8-453f-b5b0-125b609c9c43",
   "metadata": {},
   "outputs": [],
   "source": []
  }
 ],
 "metadata": {
  "kernelspec": {
   "display_name": "Python 3 (ipykernel)",
   "language": "python",
   "name": "python3"
  },
  "language_info": {
   "codemirror_mode": {
    "name": "ipython",
    "version": 3
   },
   "file_extension": ".py",
   "mimetype": "text/x-python",
   "name": "python",
   "nbconvert_exporter": "python",
   "pygments_lexer": "ipython3",
   "version": "3.11.1"
  }
 },
 "nbformat": 4,
 "nbformat_minor": 5
}
